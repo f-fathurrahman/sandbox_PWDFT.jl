{
 "cells": [
  {
   "cell_type": "code",
   "execution_count": 1,
   "metadata": {},
   "outputs": [
    {
     "name": "stdout",
     "output_type": "stream",
     "text": [
      "Julia Version 1.1.0\n",
      "Commit 80516ca202 (2019-01-21 21:24 UTC)\n",
      "Platform Info:\n",
      "  OS: Linux (x86_64-pc-linux-gnu)\n",
      "  CPU: Intel(R) Core(TM) i7-8750H CPU @ 2.20GHz\n",
      "  WORD_SIZE: 64\n",
      "  LIBM: libopenlibm\n",
      "  LLVM: libLLVM-6.0.1 (ORCJIT, skylake)\n"
     ]
    }
   ],
   "source": [
    "versioninfo()"
   ]
  },
  {
   "cell_type": "markdown",
   "metadata": {},
   "source": [
    "## Common packages"
   ]
  },
  {
   "cell_type": "code",
   "execution_count": 2,
   "metadata": {},
   "outputs": [],
   "source": [
    "using Printf\n",
    "using LinearAlgebra\n",
    "using Random\n",
    "using FFTW"
   ]
  },
  {
   "cell_type": "markdown",
   "metadata": {},
   "source": [
    "## External libraries"
   ]
  },
  {
   "cell_type": "code",
   "execution_count": 3,
   "metadata": {},
   "outputs": [],
   "source": [
    "include(\"../extlibs/extlibs.jl\");"
   ]
  },
  {
   "cell_type": "markdown",
   "metadata": {},
   "source": [
    "## Constants"
   ]
  },
  {
   "cell_type": "code",
   "execution_count": 4,
   "metadata": {},
   "outputs": [],
   "source": [
    "const Ry2eV = 13.605693009;\n",
    "const ANG2BOHR = 1.8897261254578281;"
   ]
  },
  {
   "cell_type": "markdown",
   "metadata": {},
   "source": [
    "## Type aliases"
   ]
  },
  {
   "cell_type": "code",
   "execution_count": 5,
   "metadata": {},
   "outputs": [],
   "source": [
    "const BlochWavefunc = Array{Array{ComplexF64,2},1};\n",
    "const Wavefunc = Array{ComplexF64,2};"
   ]
  },
  {
   "cell_type": "markdown",
   "metadata": {},
   "source": [
    "## Atoms, lattice, etc"
   ]
  },
  {
   "cell_type": "code",
   "execution_count": 6,
   "metadata": {},
   "outputs": [
    {
     "data": {
      "text/plain": [
       "op_nabla_dot (generic function with 1 method)"
      ]
     },
     "execution_count": 6,
     "metadata": {},
     "output_type": "execute_result"
    }
   ],
   "source": [
    "include(\"../src/Atoms.jl\");\n",
    "\n",
    "include(\"../src/gen_lattice_pwscf.jl\");\n",
    "\n",
    "include(\"../src/spglib.jl\");\n",
    "\n",
    "include(\"../src/KPoints.jl\");\n",
    "\n",
    "include(\"../src/XSF_utils.jl\");\n",
    "\n",
    "include(\"../src/Utilities.jl\");\n",
    "\n",
    "include(\"../src/ortho_gram_schmidt.jl\");\n",
    "include(\"../src/ortho_sqrt.jl\");\n",
    "include(\"../src/ortho_check.jl\");\n",
    "\n",
    "include(\"../src/Ylm_real.jl\");\n",
    "include(\"../src/Ylm_complex.jl\");\n",
    "\n",
    "include(\"../src/fft_support.jl\");\n",
    "\n",
    "include(\"../src/PWGrid.jl\");"
   ]
  },
  {
   "cell_type": "code",
   "execution_count": 11,
   "metadata": {},
   "outputs": [
    {
     "data": {
      "text/plain": [
       "eval_proj_G (generic function with 2 methods)"
      ]
     },
     "execution_count": 11,
     "metadata": {},
     "output_type": "execute_result"
    }
   ],
   "source": [
    "include(\"PsPot_GTH_mod.jl\");"
   ]
  },
  {
   "cell_type": "code",
   "execution_count": 12,
   "metadata": {},
   "outputs": [],
   "source": [
    "include(\"../src/wrappers_fft.jl\");\n",
    "include(\"../src/Electrons.jl\");\n",
    "include(\"../src/calc_strfact.jl\");\n",
    "include(\"../src/init_V_coulomb_G.jl\");\n",
    "\n",
    "mutable struct XCFuncType\n",
    "end\n",
    "include(\"../src/LDA_VWN.jl\");\n",
    "include(\"../src/GGA_PBE.jl\");"
   ]
  },
  {
   "cell_type": "markdown",
   "metadata": {},
   "source": [
    "# KSDFT Hamiltonian in plane wave basis"
   ]
  },
  {
   "cell_type": "markdown",
   "metadata": {},
   "source": [
    "Structure factor:\n",
    "$$\n",
    "S_{s}(\\mathbf{G}) = \\sum_{a=1}^{N_{a}(s)} e^{\\imath \\mathbf{G}\\cdot\\mathbf{r}_{as}}\n",
    "$$"
   ]
  },
  {
   "cell_type": "markdown",
   "metadata": {},
   "source": [
    "Form factor of the spherically symmtric local potential is:\n",
    "$$\n",
    "\\Phi_{s}(\\mathbf{G}) = \\frac{4\\pi}{\\Omega} \\int_{0}^{\\infty} r^2 j_{0}(r\\left|\\mathbf{G}\\right|) V_{s}^{\\mathrm{ps,local}}\\,\\mathrm{d}r\n",
    "$$"
   ]
  },
  {
   "cell_type": "code",
   "execution_count": 1,
   "metadata": {},
   "outputs": [],
   "source": [
    "using SpecialFunctions"
   ]
  },
  {
   "cell_type": "code",
   "execution_count": null,
   "metadata": {},
   "outputs": [],
   "source": [
    "besselj0(x)"
   ]
  },
  {
   "cell_type": "code",
   "execution_count": 2,
   "metadata": {},
   "outputs": [
    {
     "name": "stderr",
     "output_type": "stream",
     "text": [
      "┌ Info: Recompiling stale cache file /home/efefer/.julia/compiled/v1.1/PGFPlotsX/ckKEQ.ji for PGFPlotsX [8314cec4-20b6-5062-9cdb-752b83310925]\n",
      "└ @ Base loading.jl:1184\n"
     ]
    }
   ],
   "source": [
    "using PGFPlotsX"
   ]
  },
  {
   "cell_type": "code",
   "execution_count": 4,
   "metadata": {},
   "outputs": [
    {
     "data": {
      "image/png": "[encoded data removed]",
      "text/plain": [
       "Axis(PGFPlotsX.Options(OrderedCollections.OrderedDict{Any,Any}(\"xlabel\"=>\"Cost\",\"ylabel\"=>\"Error\"), true), Any[Plot(false, false, Options(OrderedCollections.OrderedDict{Any,Any}(\"color\"=>\"red\",\"mark\"=>\"x\"), true), Coordinates{2}(Union{Nothing, Coordinate{2}}[Coordinate{2}((2, -2.85597), nothing, nothing, nothing, nothing), Coordinate{2}((3, -3.53017), nothing, nothing, nothing, nothing), Coordinate{2}((4, 0.050655), nothing, nothing, nothing, nothing), Coordinate{2}((5, -5.14131), nothing, nothing, nothing, nothing), Coordinate{2}((6, -6.03229), nothing, nothing, nothing, nothing), Coordinate{2}((7, -6.96751), nothing, nothing, nothing, nothing), Coordinate{2}((8, -7.93777), nothing, nothing, nothing, nothing)]), Any[])])"
      ]
     },
     "execution_count": 4,
     "metadata": {},
     "output_type": "execute_result"
    }
   ],
   "source": [
    "@pgf Axis(\n",
    "    {\n",
    "        xlabel = \"Cost\",\n",
    "        ylabel = \"Error\",\n",
    "    },\n",
    "    Plot(\n",
    "        {\n",
    "            color = \"red\",\n",
    "            mark  = \"x\"\n",
    "        },\n",
    "        Coordinates(\n",
    "            [\n",
    "                (2, -2.8559703),\n",
    "                (3, -3.5301677),\n",
    "                (4, 0.050655),\n",
    "                (5, -5.1413136),\n",
    "                (6, -6.0322865),\n",
    "                (7, -6.9675052),\n",
    "                (8, -7.9377747),\n",
    "            ]\n",
    "        ),\n",
    "    ),\n",
    ")"
   ]
  },
  {
   "cell_type": "code",
   "execution_count": null,
   "metadata": {},
   "outputs": [],
   "source": []
  },
  {
   "cell_type": "code",
   "execution_count": null,
   "metadata": {},
   "outputs": [],
   "source": []
  },
  {
   "cell_type": "code",
   "execution_count": null,
   "metadata": {},
   "outputs": [],
   "source": []
  },
  {
   "cell_type": "code",
   "execution_count": null,
   "metadata": {},
   "outputs": [],
   "source": []
  },
  {
   "cell_type": "markdown",
   "metadata": {
    "heading_collapsed": true
   },
   "source": [
    "# Gaussian auxiliary charge density"
   ]
  },
  {
   "cell_type": "markdown",
   "metadata": {
    "hidden": true
   },
   "source": [
    "By convention this auxiliary charge density is negative\n",
    "\n",
    "$$\n",
    "\\rho_{\\mathrm{aux}}(\\mathbf{r}) =\n",
    "-\\frac{(2\\eta)^3}{(2\\pi)^{3/2}}\n",
    "\\sum_{I=1}^{P} Z_{I}\n",
    "\\exp\\left[-2\\eta^2(\\mathbf{r} - \\mathbf{R}_{I})^2\\right]\n",
    "$$\n",
    "\n",
    "The multiplying factor is to ensure normalization of charge density."
   ]
  },
  {
   "cell_type": "code",
   "execution_count": 7,
   "metadata": {
    "hidden": true
   },
   "outputs": [
    {
     "data": {
      "text/plain": [
       "gen_Rhoe_aux (generic function with 1 method)"
      ]
     },
     "execution_count": 7,
     "metadata": {},
     "output_type": "execute_result"
    }
   ],
   "source": [
    "function gen_Rhoe_aux(\n",
    "    eta::Float64, atoms::Atoms, Zvals::Array{Float64,1}, pw::PWGrid\n",
    ")\n",
    "    #\n",
    "    Npoints = prod(pw.Ns)\n",
    "    Rhoe_aux = zeros(Float64,Npoints)\n",
    "    Natoms = atoms.Natoms\n",
    "    atm2species = atoms.atm2species\n",
    "    #\n",
    "    for ip = 1:Npoints\n",
    "        r = pw.r[:,ip]\n",
    "        for ia = 1:Natoms\n",
    "            isp = atm2species[ia]\n",
    "            R = atoms.positions[:,ia]\n",
    "            Z = Zvals[isp]\n",
    "            dr2 = dot(r-R,r-R)\n",
    "            Rhoe_aux[ip] = Rhoe_aux[ip] + Z*exp(-2*eta^2*dr2)\n",
    "        end\n",
    "    end\n",
    "    return -(2*eta)^3/((2*pi)^1.5)*Rhoe_aux\n",
    "end"
   ]
  },
  {
   "cell_type": "code",
   "execution_count": null,
   "metadata": {
    "hidden": true
   },
   "outputs": [],
   "source": []
  },
  {
   "cell_type": "code",
   "execution_count": null,
   "metadata": {
    "hidden": true
   },
   "outputs": [],
   "source": []
  }
 ],
 "metadata": {
  "kernelspec": {
   "display_name": "Julia 1.1.0",
   "language": "julia",
   "name": "julia-1.1"
  },
  "language_info": {
   "file_extension": ".jl",
   "mimetype": "application/julia",
   "name": "julia",
   "version": "1.1.0"
  }
 },
 "nbformat": 4,
 "nbformat_minor": 2
}
